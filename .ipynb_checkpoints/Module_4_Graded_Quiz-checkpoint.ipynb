{
 "cells": [
  {
   "cell_type": "code",
   "execution_count": 1,
   "metadata": {},
   "outputs": [],
   "source": [
    "import pandas as pd\n",
    "import numpy as np\n",
    "import matplotlib.pyplot as plt\n",
    "import ipywidgets as widgets\n",
    "import seaborn as sns\n",
    "import edhec_risk_kit as erk\n",
    "\n",
    "# using seaborn style (type plt.style.available to see available styles)\n",
    "plt.style.use(\"seaborn-pastel\") \n",
    "\n",
    "%load_ext autoreload\n",
    "%autoreload 2\n",
    "%matplotlib inline"
   ]
  },
  {
   "cell_type": "markdown",
   "metadata": {},
   "source": [
    "In the following questions, we will be working with three bonds:\n",
    "\n",
    "B1 is a 15 Year Bond with a Face Value of \\$1000 that pays a 5\\% coupon semi-annually (2 times a year)\n",
    "\n",
    "B2 is a 5 Year Bond with a Face value of \\$1000 that pays a 6\\% coupon quarterly (4 times a year)\n",
    "\n",
    "B3 is a 10 Year Zero-Coupon Bond with a Face Value of \\$1000 (Hint: you can still use the `erk.bond_cash_flows()` and `erk.bond_price()` by setting the coupon amount to 0\\% and coupons_per_year to 1) \n",
    "\n",
    "Assume the yield curve is flat at 5\\%. Duration refers to Macaulay Duration"
   ]
  },
  {
   "cell_type": "markdown",
   "metadata": {},
   "source": [
    "### Question 1\n",
    "\n",
    "Which of the three bonds is the most expensive?\n",
    "\n",
    "### Question 2\n",
    "\n",
    "Which of the three bonds is the least expensive?\n",
    "1 point\n",
    "\n",
    "\n",
    "### Question 3\n",
    "\n",
    "What is the price of the 10 Year Zero Coupon Bond B3"
   ]
  },
  {
   "cell_type": "code",
   "execution_count": 2,
   "metadata": {},
   "outputs": [
    {
     "name": "stdout",
     "output_type": "stream",
     "text": [
      "0    1000.0\n",
      "dtype: float64\n",
      "0    1043.99829\n",
      "dtype: float64\n",
      "0    613.913254\n",
      "dtype: float64\n"
     ]
    }
   ],
   "source": [
    "b1_price = erk.bond_price(maturity=15, principal=1000, \n",
    "                          coupon_rate=0.05, coupons_per_year=2, \n",
    "                          discount_rate=0.05)\n",
    "\n",
    "b2_price = erk.bond_price(maturity=5, principal=1000, \n",
    "                          coupon_rate=0.06, coupons_per_year=4, \n",
    "                          discount_rate=0.05)\n",
    "\n",
    "b3_price = erk.bond_price(maturity=10, principal=1000, \n",
    "                          coupon_rate=0, coupons_per_year=1, \n",
    "                          discount_rate=0.05)\n",
    "\n",
    "print(b1_price)\n",
    "print(b2_price)\n",
    "print(b3_price)"
   ]
  },
  {
   "cell_type": "markdown",
   "metadata": {},
   "source": [
    "### Question 4\n",
    "\n",
    "Which of the three bonds has the highest (Macaulay) Duration?\n",
    "\n",
    "### Question 5\n",
    "\n",
    "Which of the three bonds has the lowest (Macaulay) Duration?\n",
    "\n",
    "### Question 6\n",
    "\n",
    "What is the duration of the 5 year bond B2?"
   ]
  },
  {
   "cell_type": "code",
   "execution_count": 3,
   "metadata": {},
   "outputs": [
    {
     "name": "stdout",
     "output_type": "stream",
     "text": [
      "10.72677495379012\n",
      "4.373363222636413\n",
      "10.0\n"
     ]
    }
   ],
   "source": [
    "b1_cash_flow = erk.bond_cash_flows(maturity=15, principal=1000, \n",
    "                          coupon_rate=0.05, coupons_per_year=2)\n",
    "\n",
    "b2_cash_flow = erk.bond_cash_flows(maturity=5, principal=1000, \n",
    "                          coupon_rate=0.06, coupons_per_year=4)\n",
    "\n",
    "b3_cash_flow = erk.bond_cash_flows(maturity=10, principal=1000, \n",
    "                          coupon_rate=0, coupons_per_year=1)\n",
    "\n",
    "b1_md = erk.macaulay_duration(b1_cash_flow, discount_rate=0.05/2)\n",
    "b1_md = b1_md / 2\n",
    "b2_md = erk.macaulay_duration(b2_cash_flow, discount_rate=0.05/4)\n",
    "b2_md = b2_md / 4\n",
    "b3_md = erk.macaulay_duration(b3_cash_flow, discount_rate=0.05)\n",
    "\n",
    "print(b1_md)\n",
    "print(b2_md)\n",
    "print(b3_md)"
   ]
  },
  {
   "cell_type": "markdown",
   "metadata": {},
   "source": [
    "### Question 7\n",
    "\n",
    "Assume a sequence of 3 liabilities of \\\\$100,000, \\\\$200,000 and \\\\$300,000 that are 3, 5 and 10 years away, respectively. What is the Duration of the liabilities?\n",
    "\n",
    "(Reminder: Assume the yield curve is flat at 5\\%. Duration refers to Macaulay Duration)\n",
    "\n"
   ]
  },
  {
   "cell_type": "code",
   "execution_count": 4,
   "metadata": {},
   "outputs": [
    {
     "data": {
      "text/plain": [
       "6.750917852744651"
      ]
     },
     "execution_count": 4,
     "metadata": {},
     "output_type": "execute_result"
    }
   ],
   "source": [
    "liabilities7 = pd.Series(data = [100000, 200000, 300000], index=[3, 5, 10])\n",
    "erk.macaulay_duration(liabilities7, .05)"
   ]
  },
  {
   "cell_type": "markdown",
   "metadata": {},
   "source": [
    "### Question 8\n",
    "\n",
    "Assuming the same set of liabilities as the previous question (i.e. a sequence of 3 liabilities of \\\\$100,000, \\\\$200,000 and \\\\$300,000 that are 3, 5 and 10 years away, respectively) build a Duration Matched Portfolio of B1 and B2 to match these liabilities. What is the weight of B2 in the portfolio? (Hint: the code we developed in class erk.match_durations() assumes that all the bonds have the same number of coupons per year. This is not the case here, so you will either need to enhance the code or compute the weight directly e.g. by entering the steps in a Jupyter Notebook Cell or at the Python Command Line)"
   ]
  },
  {
   "cell_type": "code",
   "execution_count": 5,
   "metadata": {},
   "outputs": [
    {
     "name": "stdout",
     "output_type": "stream",
     "text": [
      "0.6257830075060314\n"
     ]
    }
   ],
   "source": [
    "ytm = 0.05\n",
    "d_t = erk.macaulay_duration(liabilities7, ytm)\n",
    "d_b1 = erk.macaulay_duration(b1_cash_flow, ytm/2) / 2\n",
    "d_b2 = erk.macaulay_duration(b2_cash_flow, ytm/4) / 4\n",
    "\n",
    "w_b1 = (d_b2 - d_t) / (d_b2 - d_b1)\n",
    "w_b2 = 1 - w_b1\n",
    "print(w_b2)"
   ]
  },
  {
   "cell_type": "markdown",
   "metadata": {},
   "source": [
    "### Question 9\n",
    "\n",
    "Assume you can use any of the bonds B1, B2 and B3 to build a duration matched bond portfolio matched to the liabilities. Which combination of 2 bonds can you NOT use to build a duration matched bond portfolio?"
   ]
  },
  {
   "cell_type": "markdown",
   "metadata": {},
   "source": [
    "Answer: B1 + B3"
   ]
  },
  {
   "cell_type": "code",
   "execution_count": 6,
   "metadata": {},
   "outputs": [
    {
     "name": "stdout",
     "output_type": "stream",
     "text": [
      "-4.470547767656877\n"
     ]
    }
   ],
   "source": [
    "ytm = 0.05\n",
    "d_t = erk.macaulay_duration(liabilities7, ytm)\n",
    "d_b1 = erk.macaulay_duration(b1_cash_flow, ytm/2) / 2\n",
    "d_b3 = erk.macaulay_duration(b3_cash_flow, ytm) \n",
    "\n",
    "w_b1 = (d_b3 - d_t) / (d_b3 - d_b1)\n",
    "w_b3 = 1 - w_b1\n",
    "print(w_b1)"
   ]
  },
  {
   "cell_type": "markdown",
   "metadata": {},
   "source": [
    "### Question 10\n",
    "\n",
    "Assuming the same liabilities as the previous questions (i.e. a sequence of 3 liabilities of \\\\$100,000, \\\\$200,000 and \\\\$300,000 that are 3, 5 and 10 years away, respectively), build a Duration Matched Portfolio of B2 and B3 to match the liabilities.\n",
    "\n",
    "\n",
    "What is the weight of B2 in this portfolio?\n"
   ]
  },
  {
   "cell_type": "code",
   "execution_count": 7,
   "metadata": {},
   "outputs": [
    {
     "name": "stdout",
     "output_type": "stream",
     "text": [
      "0.5774465770256697\n"
     ]
    }
   ],
   "source": [
    "ytm = 0.05\n",
    "d_t = erk.macaulay_duration(liabilities7, ytm)\n",
    "d_b2 = erk.macaulay_duration(b2_cash_flow, ytm/4) / 4\n",
    "d_b3 = erk.macaulay_duration(b3_cash_flow, ytm) / 1\n",
    "\n",
    "w_b2 = (d_b3 - d_t) / (d_b3 - d_b2)\n",
    "print(w_b2)"
   ]
  }
 ],
 "metadata": {
  "kernelspec": {
   "display_name": "Python 3",
   "language": "python",
   "name": "python3"
  },
  "language_info": {
   "codemirror_mode": {
    "name": "ipython",
    "version": 3
   },
   "file_extension": ".py",
   "mimetype": "text/x-python",
   "name": "python",
   "nbconvert_exporter": "python",
   "pygments_lexer": "ipython3",
   "version": "3.7.5"
  }
 },
 "nbformat": 4,
 "nbformat_minor": 4
}
